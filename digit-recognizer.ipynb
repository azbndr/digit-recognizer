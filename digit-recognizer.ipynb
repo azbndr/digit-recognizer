{
 "cells": [
  {
   "cell_type": "code",
   "execution_count": 1,
   "id": "c05fb47e",
   "metadata": {
    "execution": {
     "iopub.execute_input": "2023-05-31T00:32:34.136339Z",
     "iopub.status.busy": "2023-05-31T00:32:34.135705Z",
     "iopub.status.idle": "2023-05-31T00:32:38.365034Z",
     "shell.execute_reply": "2023-05-31T00:32:38.363986Z"
    },
    "papermill": {
     "duration": 4.23973,
     "end_time": "2023-05-31T00:32:38.367819",
     "exception": false,
     "start_time": "2023-05-31T00:32:34.128089",
     "status": "completed"
    },
    "tags": []
   },
   "outputs": [],
   "source": [
    "# Libraries\n",
    "import numpy as np\n",
    "import pandas as pd\n",
    "import torch\n",
    "import torch.nn as nn\n",
    "import torch.nn.functional as F\n",
    "import matplotlib.pyplot as plt\n",
    "import plotly.graph_objects as go\n",
    "from torchvision import transforms as T\n",
    "from torch.utils.data import Dataset\n",
    "from torch.utils.data import DataLoader, random_split\n",
    "from torch import optim\n",
    "from tqdm.notebook import tqdm as tqdm # for progress bar of epochs"
   ]
  },
  {
   "cell_type": "code",
   "execution_count": 2,
   "id": "50e3306c",
   "metadata": {
    "execution": {
     "iopub.execute_input": "2023-05-31T00:32:38.381876Z",
     "iopub.status.busy": "2023-05-31T00:32:38.381264Z",
     "iopub.status.idle": "2023-05-31T00:32:38.386222Z",
     "shell.execute_reply": "2023-05-31T00:32:38.385290Z"
    },
    "papermill": {
     "duration": 0.014312,
     "end_time": "2023-05-31T00:32:38.388269",
     "exception": false,
     "start_time": "2023-05-31T00:32:38.373957",
     "status": "completed"
    },
    "tags": []
   },
   "outputs": [],
   "source": [
    "# Device\n",
    "device = torch.device(\"cuda\" if torch.cuda.is_available() else \"cpu\")"
   ]
  },
  {
   "cell_type": "markdown",
   "id": "eea81681",
   "metadata": {
    "papermill": {
     "duration": 0.005141,
     "end_time": "2023-05-31T00:32:38.398970",
     "exception": false,
     "start_time": "2023-05-31T00:32:38.393829",
     "status": "completed"
    },
    "tags": []
   },
   "source": [
    "## Data Loading"
   ]
  },
  {
   "cell_type": "code",
   "execution_count": 3,
   "id": "ba6e0a89",
   "metadata": {
    "_cell_guid": "b1076dfc-b9ad-4769-8c92-a6c4dae69d19",
    "_uuid": "8f2839f25d086af736a60e9eeb907d3b93b6e0e5",
    "execution": {
     "iopub.execute_input": "2023-05-31T00:32:38.411773Z",
     "iopub.status.busy": "2023-05-31T00:32:38.411344Z",
     "iopub.status.idle": "2023-05-31T00:32:38.419172Z",
     "shell.execute_reply": "2023-05-31T00:32:38.418022Z"
    },
    "papermill": {
     "duration": 0.017055,
     "end_time": "2023-05-31T00:32:38.421497",
     "exception": false,
     "start_time": "2023-05-31T00:32:38.404442",
     "status": "completed"
    },
    "tags": []
   },
   "outputs": [],
   "source": [
    "# Dataset class\n",
    "class MNIST_Dataset(Dataset):\n",
    "    \n",
    "    def __init__(self, train=True, transform=T.ToTensor()):\n",
    "        if train:\n",
    "            self.data = pd.read_csv('/kaggle/input/digit-recognizer/train.csv')\n",
    "            self.y = self.data['label']\n",
    "            self.data = self.data.drop(['label'], axis=1)\n",
    "        else:\n",
    "            self.data = pd.read_csv('/kaggle/input/digit-recognizer/test.csv')\n",
    "            self.y = None\n",
    "        self.transform = transform\n",
    "\n",
    "    def __len__(self):\n",
    "        return len(self.data)\n",
    "\n",
    "    def __getitem__(self, index):\n",
    "        img = np.array(self.data.iloc[index], dtype=np.float32) # float32 in order to be converted to float with ToTensor() instead of double\n",
    "        img = img.reshape(28, 28, 1)\n",
    "        img = img / 255 # Normalization\n",
    "        if self.transform:\n",
    "            img = self.transform(img)\n",
    "            \n",
    "        if self.y is not None:\n",
    "            return (img, self.y[index]) # (X, Y)\n",
    "        else:\n",
    "            return img # Only X"
   ]
  },
  {
   "cell_type": "markdown",
   "id": "dc71ca5e",
   "metadata": {
    "execution": {
     "iopub.execute_input": "2023-05-30T22:19:24.147408Z",
     "iopub.status.busy": "2023-05-30T22:19:24.146935Z",
     "iopub.status.idle": "2023-05-30T22:19:24.155500Z",
     "shell.execute_reply": "2023-05-30T22:19:24.153409Z",
     "shell.execute_reply.started": "2023-05-30T22:19:24.147369Z"
    },
    "papermill": {
     "duration": 0.006892,
     "end_time": "2023-05-31T00:32:38.433887",
     "exception": false,
     "start_time": "2023-05-31T00:32:38.426995",
     "status": "completed"
    },
    "tags": []
   },
   "source": [
    "We'll take 20% of the training data as validation set."
   ]
  },
  {
   "cell_type": "code",
   "execution_count": 4,
   "id": "22046a59",
   "metadata": {
    "execution": {
     "iopub.execute_input": "2023-05-31T00:32:38.446457Z",
     "iopub.status.busy": "2023-05-31T00:32:38.446049Z",
     "iopub.status.idle": "2023-05-31T00:32:44.104131Z",
     "shell.execute_reply": "2023-05-31T00:32:44.102994Z"
    },
    "papermill": {
     "duration": 5.667371,
     "end_time": "2023-05-31T00:32:44.106662",
     "exception": false,
     "start_time": "2023-05-31T00:32:38.439291",
     "status": "completed"
    },
    "tags": []
   },
   "outputs": [
    {
     "name": "stdout",
     "output_type": "stream",
     "text": [
      "Total no. of train imgs: 33600\n",
      "Total no. of validation imgs: 8400\n",
      "Total no. of test imgs: 28000\n"
     ]
    }
   ],
   "source": [
    "# Splitting X_train into traning and validation sets\n",
    "full_train_set = MNIST_Dataset(train=True)\n",
    "val_split = 0.2\n",
    "len_val_set = int(len(full_train_set)*val_split)\n",
    "len_train_set = len(full_train_set) - len_val_set \n",
    "train_dataset, val_dataset = random_split(full_train_set, (len_train_set, len_val_set))\n",
    "\n",
    "# Test set\n",
    "test_dataset = MNIST_Dataset(train=False)\n",
    "\n",
    "# Details\n",
    "print(f'Total no. of train imgs: {len(train_dataset)}')\n",
    "print(f\"Total no. of validation imgs: {len(val_dataset)}\")\n",
    "print(f\"Total no. of test imgs: {len(test_dataset)}\")"
   ]
  },
  {
   "cell_type": "markdown",
   "id": "0f03b7d0",
   "metadata": {
    "papermill": {
     "duration": 0.00504,
     "end_time": "2023-05-31T00:32:44.117182",
     "exception": false,
     "start_time": "2023-05-31T00:32:44.112142",
     "status": "completed"
    },
    "tags": []
   },
   "source": [
    "## Visualization"
   ]
  },
  {
   "cell_type": "code",
   "execution_count": 5,
   "id": "deb5e51c",
   "metadata": {
    "execution": {
     "iopub.execute_input": "2023-05-31T00:32:44.129385Z",
     "iopub.status.busy": "2023-05-31T00:32:44.129024Z",
     "iopub.status.idle": "2023-05-31T00:32:44.439441Z",
     "shell.execute_reply": "2023-05-31T00:32:44.438289Z"
    },
    "papermill": {
     "duration": 0.319309,
     "end_time": "2023-05-31T00:32:44.441685",
     "exception": false,
     "start_time": "2023-05-31T00:32:44.122376",
     "status": "completed"
    },
    "tags": []
   },
   "outputs": [
    {
     "data": {
      "image/png": "[encoded data removed]",
      "text/plain": [
       "<Figure size 800x400 with 1 Axes>"
      ]
     },
     "metadata": {},
     "output_type": "display_data"
    }
   ],
   "source": [
    "fig, ax = plt.subplots(1, 1, figsize=(8,4))\n",
    "idx = np.random.choice(np.arange(len(train_dataset)))\n",
    "img, label = train_dataset[idx]\n",
    "ax.set(title=f'Index {idx}: Label {label}')\n",
    "ax.imshow(img.squeeze(),cmap = 'gray');"
   ]
  },
  {
   "cell_type": "markdown",
   "id": "35c04187",
   "metadata": {
    "papermill": {
     "duration": 0.005544,
     "end_time": "2023-05-31T00:32:44.452942",
     "exception": false,
     "start_time": "2023-05-31T00:32:44.447398",
     "status": "completed"
    },
    "tags": []
   },
   "source": [
    "## CNN"
   ]
  },
  {
   "cell_type": "code",
   "execution_count": 6,
   "id": "0c4e449d",
   "metadata": {
    "execution": {
     "iopub.execute_input": "2023-05-31T00:32:44.466221Z",
     "iopub.status.busy": "2023-05-31T00:32:44.465847Z",
     "iopub.status.idle": "2023-05-31T00:32:44.496246Z",
     "shell.execute_reply": "2023-05-31T00:32:44.495155Z"
    },
    "papermill": {
     "duration": 0.039868,
     "end_time": "2023-05-31T00:32:44.498528",
     "exception": false,
     "start_time": "2023-05-31T00:32:44.458660",
     "status": "completed"
    },
    "tags": []
   },
   "outputs": [
    {
     "data": {
      "text/plain": [
       "CNN(\n",
       "  (conv1): Conv2d(1, 10, kernel_size=(5, 5), stride=(1, 1))\n",
       "  (conv2): Conv2d(10, 20, kernel_size=(5, 5), stride=(1, 1))\n",
       "  (conv2_drop): Dropout2d(p=0.2, inplace=False)\n",
       "  (maxpool2d): MaxPool2d(kernel_size=2, stride=2, padding=0, dilation=1, ceil_mode=False)\n",
       "  (fc1): Linear(in_features=320, out_features=50, bias=True)\n",
       "  (fc2): Linear(in_features=50, out_features=10, bias=True)\n",
       ")"
      ]
     },
     "execution_count": 6,
     "metadata": {},
     "output_type": "execute_result"
    }
   ],
   "source": [
    "class CNN(nn.Module):\n",
    "    \n",
    "    def __init__(self):\n",
    "        super(CNN, self).__init__()\n",
    "        self.conv1 = nn.Conv2d(1, 10, kernel_size=5)\n",
    "        self.conv2 = nn.Conv2d(10, 20, kernel_size=5)\n",
    "        self.conv2_drop = nn.Dropout2d(p=0.2)  # Regularization\n",
    "        self.maxpool2d = nn.MaxPool2d(kernel_size=2) # Dimensionality reduction\n",
    "        self.fc1 = nn.Linear(320, 50)\n",
    "        self.fc2 = nn.Linear(50, 10)\n",
    "        \n",
    "    def forward(self, x):\n",
    "        x = F.relu(self.maxpool2d(self.conv1(x)))\n",
    "        x = F.relu(self.maxpool2d(self.conv2_drop(self.conv2(x))))\n",
    "        x = x.view(-1, 320)\n",
    "        x = F.relu(self.fc1(x))\n",
    "        x = F.dropout(x, p=0.2, training=self.training)\n",
    "        x = self.fc2(x)\n",
    "        \n",
    "        return F.log_softmax(x, dim=1)\n",
    "    \n",
    "# CNN instance\n",
    "cnn = CNN()\n",
    "cnn.to(device)\n",
    "cnn"
   ]
  },
  {
   "cell_type": "markdown",
   "id": "5271b0be",
   "metadata": {
    "papermill": {
     "duration": 0.00565,
     "end_time": "2023-05-31T00:32:44.510103",
     "exception": false,
     "start_time": "2023-05-31T00:32:44.504453",
     "status": "completed"
    },
    "tags": []
   },
   "source": [
    "## Model Summary\n",
    "`torchsummary` package. To plot the model summary"
   ]
  },
  {
   "cell_type": "code",
   "execution_count": 7,
   "id": "ff9c121c",
   "metadata": {
    "execution": {
     "iopub.execute_input": "2023-05-31T00:32:44.524331Z",
     "iopub.status.busy": "2023-05-31T00:32:44.523088Z",
     "iopub.status.idle": "2023-05-31T00:32:57.133678Z",
     "shell.execute_reply": "2023-05-31T00:32:57.132224Z"
    },
    "papermill": {
     "duration": 12.620473,
     "end_time": "2023-05-31T00:32:57.136385",
     "exception": false,
     "start_time": "2023-05-31T00:32:44.515912",
     "status": "completed"
    },
    "tags": []
   },
   "outputs": [],
   "source": [
    "%%capture\n",
    "!pip install torchsummary"
   ]
  },
  {
   "cell_type": "code",
   "execution_count": 8,
   "id": "6581d4f9",
   "metadata": {
    "execution": {
     "iopub.execute_input": "2023-05-31T00:32:57.151139Z",
     "iopub.status.busy": "2023-05-31T00:32:57.150072Z",
     "iopub.status.idle": "2023-05-31T00:32:57.303126Z",
     "shell.execute_reply": "2023-05-31T00:32:57.301788Z"
    },
    "papermill": {
     "duration": 0.163254,
     "end_time": "2023-05-31T00:32:57.305685",
     "exception": false,
     "start_time": "2023-05-31T00:32:57.142431",
     "status": "completed"
    },
    "tags": []
   },
   "outputs": [
    {
     "name": "stdout",
     "output_type": "stream",
     "text": [
      "----------------------------------------------------------------\n",
      "        Layer (type)               Output Shape         Param #\n",
      "================================================================\n",
      "            Conv2d-1           [-1, 10, 24, 24]             260\n",
      "         MaxPool2d-2           [-1, 10, 12, 12]               0\n",
      "            Conv2d-3             [-1, 20, 8, 8]           5,020\n",
      "         Dropout2d-4             [-1, 20, 8, 8]               0\n",
      "         MaxPool2d-5             [-1, 20, 4, 4]               0\n",
      "            Linear-6                   [-1, 50]          16,050\n",
      "            Linear-7                   [-1, 10]             510\n",
      "================================================================\n",
      "Total params: 21,840\n",
      "Trainable params: 21,840\n",
      "Non-trainable params: 0\n",
      "----------------------------------------------------------------\n",
      "Input size (MB): 0.00\n",
      "Forward/backward pass size (MB): 0.08\n",
      "Params size (MB): 0.08\n",
      "Estimated Total Size (MB): 0.16\n",
      "----------------------------------------------------------------\n"
     ]
    }
   ],
   "source": [
    "from torchsummary import summary\n",
    "summary(cnn, input_size=(1, 28, 28))"
   ]
  },
  {
   "cell_type": "markdown",
   "id": "bd9933c7",
   "metadata": {
    "papermill": {
     "duration": 0.005623,
     "end_time": "2023-05-31T00:32:57.317415",
     "exception": false,
     "start_time": "2023-05-31T00:32:57.311792",
     "status": "completed"
    },
    "tags": []
   },
   "source": [
    "## DataLoader"
   ]
  },
  {
   "cell_type": "code",
   "execution_count": 9,
   "id": "bae715da",
   "metadata": {
    "execution": {
     "iopub.execute_input": "2023-05-31T00:32:57.331509Z",
     "iopub.status.busy": "2023-05-31T00:32:57.331144Z",
     "iopub.status.idle": "2023-05-31T00:32:57.357915Z",
     "shell.execute_reply": "2023-05-31T00:32:57.356725Z"
    },
    "papermill": {
     "duration": 0.036845,
     "end_time": "2023-05-31T00:32:57.360251",
     "exception": false,
     "start_time": "2023-05-31T00:32:57.323406",
     "status": "completed"
    },
    "tags": []
   },
   "outputs": [
    {
     "name": "stdout",
     "output_type": "stream",
     "text": [
      "Shape of loading one batch: torch.Size([64, 1, 28, 28])\n",
      "Total no. of batches created in Train loader: 525\n",
      "Total no. of batches created in Valid loader: 132\n"
     ]
    }
   ],
   "source": [
    "# Creating batches generator\n",
    "batch_size = 64\n",
    "train_loader = DataLoader(train_dataset, batch_size=batch_size, shuffle=True)\n",
    "val_loader = DataLoader(val_dataset, batch_size=batch_size, shuffle=True)\n",
    "\n",
    "# First Batch\n",
    "dataiter = iter(train_loader)\n",
    "imgs, labels = next(dataiter)\n",
    "\n",
    "print('Shape of loading one batch: {}'.format(imgs.shape))\n",
    "print('Total no. of batches created in Train loader: {}'.format(len(train_loader)))\n",
    "print('Total no. of batches created in Valid loader: {}'.format(len(val_loader)))"
   ]
  },
  {
   "cell_type": "code",
   "execution_count": 10,
   "id": "8a296a0b",
   "metadata": {
    "execution": {
     "iopub.execute_input": "2023-05-31T00:32:57.374862Z",
     "iopub.status.busy": "2023-05-31T00:32:57.373956Z",
     "iopub.status.idle": "2023-05-31T00:32:57.379435Z",
     "shell.execute_reply": "2023-05-31T00:32:57.378559Z"
    },
    "papermill": {
     "duration": 0.015294,
     "end_time": "2023-05-31T00:32:57.381753",
     "exception": false,
     "start_time": "2023-05-31T00:32:57.366459",
     "status": "completed"
    },
    "tags": []
   },
   "outputs": [],
   "source": [
    "# Optimize parameters\n",
    "criterion = nn.NLLLoss()\n",
    "# log_softmax in output activation + nn.NLLLoss() =  nn.CrossEntropyLoss() !\n",
    "optimizer = optim.AdamW(cnn.parameters(), lr=0.01)"
   ]
  },
  {
   "cell_type": "markdown",
   "id": "29f6505d",
   "metadata": {
    "papermill": {
     "duration": 0.005653,
     "end_time": "2023-05-31T00:32:57.393528",
     "exception": false,
     "start_time": "2023-05-31T00:32:57.387875",
     "status": "completed"
    },
    "tags": []
   },
   "source": [
    "## Training\n",
    "\n",
    "For training we use the negative log likelihood loss `NLLLoss()`. \n",
    "\n",
    "In our CNN, we return the log_softmax of the last layer, which actually gives log-probabilities output. Then applying `NLLLoss()` to this output is the same as using the `CrossEntropyLoss()` (if we want to use `CrossEntropyLoss()`, we can return directly the last layer without the `log_softmax()`."
   ]
  },
  {
   "cell_type": "code",
   "execution_count": 11,
   "id": "15d47d28",
   "metadata": {
    "execution": {
     "iopub.execute_input": "2023-05-31T00:32:57.407132Z",
     "iopub.status.busy": "2023-05-31T00:32:57.406759Z",
     "iopub.status.idle": "2023-05-31T00:32:57.412317Z",
     "shell.execute_reply": "2023-05-31T00:32:57.411291Z"
    },
    "papermill": {
     "duration": 0.015004,
     "end_time": "2023-05-31T00:32:57.414511",
     "exception": false,
     "start_time": "2023-05-31T00:32:57.399507",
     "status": "completed"
    },
    "tags": []
   },
   "outputs": [],
   "source": [
    "# Fonction used in order to compute the accuracy for each batch\n",
    "def multiclass_accuracy(y_pred, y_true):\n",
    "    top_pred, y_pred_class = y_pred.topk(1, dim = 1)\n",
    "    equals = (y_pred_class == y_true.view(*y_pred_class.shape))\n",
    "    return torch.mean(equals.type(torch.FloatTensor))"
   ]
  },
  {
   "cell_type": "code",
   "execution_count": 12,
   "id": "e2d918fb",
   "metadata": {
    "execution": {
     "iopub.execute_input": "2023-05-31T00:32:57.428482Z",
     "iopub.status.busy": "2023-05-31T00:32:57.428096Z",
     "iopub.status.idle": "2023-05-31T00:35:35.233954Z",
     "shell.execute_reply": "2023-05-31T00:35:35.232876Z"
    },
    "papermill": {
     "duration": 157.821491,
     "end_time": "2023-05-31T00:35:35.242356",
     "exception": false,
     "start_time": "2023-05-31T00:32:57.420865",
     "status": "completed"
    },
    "tags": []
   },
   "outputs": [
    {
     "data": {
      "application/vnd.jupyter.widget-view+json": {
       "model_id": "d0c8bd5ffea54ca8b1f21c8e94c9fa9e",
       "version_major": 2,
       "version_minor": 0
      },
      "text/plain": [
       "Epochs:   0%|          | 0/15 [00:00<?, ?it/s]"
      ]
     },
     "metadata": {},
     "output_type": "display_data"
    }
   ],
   "source": [
    "# Training loop\n",
    "\n",
    "# Number of epochs\n",
    "epochs = 15\n",
    "\n",
    "train_losses = []\n",
    "train_accs = []\n",
    "val_losses = []\n",
    "val_accs = []\n",
    "\n",
    "for i in tqdm(range(epochs), 'Epochs'):\n",
    "\n",
    "    train_loss = 0.\n",
    "    train_acc = 0.\n",
    "    val_loss = 0.\n",
    "    val_acc = 0.\n",
    "\n",
    "    # Train on each batch\n",
    "    cnn.train()\n",
    "    for X_batch, label_batch in train_loader:\n",
    "        X_batch, label_batch = X_batch.to(device), label_batch.to(device)\n",
    "        logpreds = cnn(X_batch)\n",
    "\n",
    "        loss = criterion(logpreds, label_batch)\n",
    "        optimizer.zero_grad()\n",
    "        loss.backward() # dw, db\n",
    "        optimizer.step() # w = w - lr*dw\n",
    "        train_loss += loss.item()\n",
    "\n",
    "        preds = torch.exp(logpreds)\n",
    "        train_acc += multiclass_accuracy(preds, label_batch)\n",
    "\n",
    "    # Evaluation for each batch\n",
    "    cnn.eval() # Dropout, Batch Norm\n",
    "    for X_batch, label_batch in val_loader:\n",
    "        X_batch, label_batch = X_batch.to(device), label_batch.to(device)\n",
    "        logpreds = cnn(X_batch)\n",
    "\n",
    "        loss = criterion(logpreds, label_batch)\n",
    "        val_loss += loss.item()\n",
    "\n",
    "        preds = torch.exp(logpreds)\n",
    "        val_acc += multiclass_accuracy(preds, label_batch)\n",
    "\n",
    "    # Aggregate the loss for the current epoch\n",
    "    avg_train_loss = train_loss/len(train_loader)\n",
    "    avg_train_acc = train_acc/len(train_loader)\n",
    "    avg_val_loss = val_loss/len(val_loader)\n",
    "    avg_val_acc = val_acc/len(val_loader)\n",
    "\n",
    "    train_losses.append(avg_train_loss)\n",
    "    train_accs.append(avg_train_acc)\n",
    "    val_losses.append(avg_val_loss)\n",
    "    val_accs.append(avg_val_acc)"
   ]
  },
  {
   "cell_type": "code",
   "execution_count": 13,
   "id": "979ec5ce",
   "metadata": {
    "execution": {
     "iopub.execute_input": "2023-05-31T00:35:35.256542Z",
     "iopub.status.busy": "2023-05-31T00:35:35.256120Z",
     "iopub.status.idle": "2023-05-31T00:35:35.607669Z",
     "shell.execute_reply": "2023-05-31T00:35:35.606883Z"
    },
    "papermill": {
     "duration": 0.361253,
     "end_time": "2023-05-31T00:35:35.609839",
     "exception": false,
     "start_time": "2023-05-31T00:35:35.248586",
     "status": "completed"
    },
    "tags": []
   },
   "outputs": [
    {
     "data": {
      "text/html": [
       "        <script type=\"text/javascript\">\n",
       "        window.PlotlyConfig = {MathJaxConfig: 'local'};\n",
       "        if (window.MathJax && window.MathJax.Hub && window.MathJax.Hub.Config) {window.MathJax.Hub.Config({SVG: {font: \"STIX-Web\"}});}\n",
       "        if (typeof require !== 'undefined') {\n",
       "        require.undef(\"plotly\");\n",
       "        requirejs.config({\n",
       "            paths: {\n",
       "                'plotly': ['https://cdn.plot.ly/plotly-2.20.0.min']\n",
       "            }\n",
       "        });\n",
       "        require(['plotly'], function(Plotly) {\n",
       "            window._Plotly = Plotly;\n",
       "        });\n",
       "        }\n",
       "        </script>\n",
       "        "
      ]
     },
     "metadata": {},
     "output_type": "display_data"
    },
    {
     "data": {
      "text/html": [
       "<div>                            <div id=\"68500c3a-fb84-47cb-b39d-95d6b4f26bd3\" class=\"plotly-graph-div\" style=\"height:525px; width:100%;\"></div>            <script type=\"text/javascript\">                require([\"plotly\"], function(Plotly) {                    window.PLOTLYENV=window.PLOTLYENV || {};                                    if (document.getElementById(\"68500c3a-fb84-47cb-b39d-95d6b4f26bd3\")) {                    Plotly.newPlot(                        \"68500c3a-fb84-47cb-b39d-95d6b4f26bd3\",                        [{\"name\":\"Train Loss\",\"x\":[0,1,2,3,4,5,6,7,8,9,10,11,12,13,14],\"y\":[0.3262907618780931,0.16257454721345788,0.1445958709131394,0.13999672128685883,0.13104300307996924,0.12428285095574601,0.1204226693280396,0.12042624917945692,0.1208533666628812,0.11967781003298504,0.11118134712068631,0.11089252394934496,0.11533399094206591,0.11816165094751688,0.11266136013991421],\"type\":\"scatter\"},{\"name\":\"Val Loss\",\"x\":[0,1,2,3,4,5,6,7,8,9,10,11,12,13,14],\"y\":[0.11468463675401201,0.076511907325987,0.08422441532567257,0.08605435332565596,0.08117934230231737,0.09545687307466076,0.07047332262013559,0.10586959903064946,0.08606412091158387,0.08267746439378243,0.07154168246162237,0.06611183463996206,0.07384260483862211,0.09375744376258367,0.07620974330965316],\"type\":\"scatter\"}],                        {\"template\":{\"data\":{\"histogram2dcontour\":[{\"type\":\"histogram2dcontour\",\"colorbar\":{\"outlinewidth\":0,\"ticks\":\"\"},\"colorscale\":[[0.0,\"#0d0887\"],[0.1111111111111111,\"#46039f\"],[0.2222222222222222,\"#7201a8\"],[0.3333333333333333,\"#9c179e\"],[0.4444444444444444,\"#bd3786\"],[0.5555555555555556,\"#d8576b\"],[0.6666666666666666,\"#ed7953\"],[0.7777777777777778,\"#fb9f3a\"],[0.8888888888888888,\"#fdca26\"],[1.0,\"#f0f921\"]]}],\"choropleth\":[{\"type\":\"choropleth\",\"colorbar\":{\"outlinewidth\":0,\"ticks\":\"\"}}],\"histogram2d\":[{\"type\":\"histogram2d\",\"colorbar\":{\"outlinewidth\":0,\"ticks\":\"\"},\"colorscale\":[[0.0,\"#0d0887\"],[0.1111111111111111,\"#46039f\"],[0.2222222222222222,\"#7201a8\"],[0.3333333333333333,\"#9c179e\"],[0.4444444444444444,\"#bd3786\"],[0.5555555555555556,\"#d8576b\"],[0.6666666666666666,\"#ed7953\"],[0.7777777777777778,\"#fb9f3a\"],[0.8888888888888888,\"#fdca26\"],[1.0,\"#f0f921\"]]}],\"heatmap\":[{\"type\":\"heatmap\",\"colorbar\":{\"outlinewidth\":0,\"ticks\":\"\"},\"colorscale\":[[0.0,\"#0d0887\"],[0.1111111111111111,\"#46039f\"],[0.2222222222222222,\"#7201a8\"],[0.3333333333333333,\"#9c179e\"],[0.4444444444444444,\"#bd3786\"],[0.5555555555555556,\"#d8576b\"],[0.6666666666666666,\"#ed7953\"],[0.7777777777777778,\"#fb9f3a\"],[0.8888888888888888,\"#fdca26\"],[1.0,\"#f0f921\"]]}],\"heatmapgl\":[{\"type\":\"heatmapgl\",\"colorbar\":{\"outlinewidth\":0,\"ticks\":\"\"},\"colorscale\":[[0.0,\"#0d0887\"],[0.1111111111111111,\"#46039f\"],[0.2222222222222222,\"#7201a8\"],[0.3333333333333333,\"#9c179e\"],[0.4444444444444444,\"#bd3786\"],[0.5555555555555556,\"#d8576b\"],[0.6666666666666666,\"#ed7953\"],[0.7777777777777778,\"#fb9f3a\"],[0.8888888888888888,\"#fdca26\"],[1.0,\"#f0f921\"]]}],\"contourcarpet\":[{\"type\":\"contourcarpet\",\"colorbar\":{\"outlinewidth\":0,\"ticks\":\"\"}}],\"contour\":[{\"type\":\"contour\",\"colorbar\":{\"outlinewidth\":0,\"ticks\":\"\"},\"colorscale\":[[0.0,\"#0d0887\"],[0.1111111111111111,\"#46039f\"],[0.2222222222222222,\"#7201a8\"],[0.3333333333333333,\"#9c179e\"],[0.4444444444444444,\"#bd3786\"],[0.5555555555555556,\"#d8576b\"],[0.6666666666666666,\"#ed7953\"],[0.7777777777777778,\"#fb9f3a\"],[0.8888888888888888,\"#fdca26\"],[1.0,\"#f0f921\"]]}],\"surface\":[{\"type\":\"surface\",\"colorbar\":{\"outlinewidth\":0,\"ticks\":\"\"},\"colorscale\":[[0.0,\"#0d0887\"],[0.1111111111111111,\"#46039f\"],[0.2222222222222222,\"#7201a8\"],[0.3333333333333333,\"#9c179e\"],[0.4444444444444444,\"#bd3786\"],[0.5555555555555556,\"#d8576b\"],[0.6666666666666666,\"#ed7953\"],[0.7777777777777778,\"#fb9f3a\"],[0.8888888888888888,\"#fdca26\"],[1.0,\"#f0f921\"]]}],\"mesh3d\":[{\"type\":\"mesh3d\",\"colorbar\":{\"outlinewidth\":0,\"ticks\":\"\"}}],\"scatter\":[{\"fillpattern\":{\"fillmode\":\"overlay\",\"size\":10,\"solidity\":0.2},\"type\":\"scatter\"}],\"parcoords\":[{\"type\":\"parcoords\",\"line\":{\"colorbar\":{\"outlinewidth\":0,\"ticks\":\"\"}}}],\"scatterpolargl\":[{\"type\":\"scatterpolargl\",\"marker\":{\"colorbar\":{\"outlinewidth\":0,\"ticks\":\"\"}}}],\"bar\":[{\"error_x\":{\"color\":\"#2a3f5f\"},\"error_y\":{\"color\":\"#2a3f5f\"},\"marker\":{\"line\":{\"color\":\"#E5ECF6\",\"width\":0.5},\"pattern\":{\"fillmode\":\"overlay\",\"size\":10,\"solidity\":0.2}},\"type\":\"bar\"}],\"scattergeo\":[{\"type\":\"scattergeo\",\"marker\":{\"colorbar\":{\"outlinewidth\":0,\"ticks\":\"\"}}}],\"scatterpolar\":[{\"type\":\"scatterpolar\",\"marker\":{\"colorbar\":{\"outlinewidth\":0,\"ticks\":\"\"}}}],\"histogram\":[{\"marker\":{\"pattern\":{\"fillmode\":\"overlay\",\"size\":10,\"solidity\":0.2}},\"type\":\"histogram\"}],\"scattergl\":[{\"type\":\"scattergl\",\"marker\":{\"colorbar\":{\"outlinewidth\":0,\"ticks\":\"\"}}}],\"scatter3d\":[{\"type\":\"scatter3d\",\"line\":{\"colorbar\":{\"outlinewidth\":0,\"ticks\":\"\"}},\"marker\":{\"colorbar\":{\"outlinewidth\":0,\"ticks\":\"\"}}}],\"scattermapbox\":[{\"type\":\"scattermapbox\",\"marker\":{\"colorbar\":{\"outlinewidth\":0,\"ticks\":\"\"}}}],\"scatterternary\":[{\"type\":\"scatterternary\",\"marker\":{\"colorbar\":{\"outlinewidth\":0,\"ticks\":\"\"}}}],\"scattercarpet\":[{\"type\":\"scattercarpet\",\"marker\":{\"colorbar\":{\"outlinewidth\":0,\"ticks\":\"\"}}}],\"carpet\":[{\"aaxis\":{\"endlinecolor\":\"#2a3f5f\",\"gridcolor\":\"white\",\"linecolor\":\"white\",\"minorgridcolor\":\"white\",\"startlinecolor\":\"#2a3f5f\"},\"baxis\":{\"endlinecolor\":\"#2a3f5f\",\"gridcolor\":\"white\",\"linecolor\":\"white\",\"minorgridcolor\":\"white\",\"startlinecolor\":\"#2a3f5f\"},\"type\":\"carpet\"}],\"table\":[{\"cells\":{\"fill\":{\"color\":\"#EBF0F8\"},\"line\":{\"color\":\"white\"}},\"header\":{\"fill\":{\"color\":\"#C8D4E3\"},\"line\":{\"color\":\"white\"}},\"type\":\"table\"}],\"barpolar\":[{\"marker\":{\"line\":{\"color\":\"#E5ECF6\",\"width\":0.5},\"pattern\":{\"fillmode\":\"overlay\",\"size\":10,\"solidity\":0.2}},\"type\":\"barpolar\"}],\"pie\":[{\"automargin\":true,\"type\":\"pie\"}]},\"layout\":{\"autotypenumbers\":\"strict\",\"colorway\":[\"#636efa\",\"#EF553B\",\"#00cc96\",\"#ab63fa\",\"#FFA15A\",\"#19d3f3\",\"#FF6692\",\"#B6E880\",\"#FF97FF\",\"#FECB52\"],\"font\":{\"color\":\"#2a3f5f\"},\"hovermode\":\"closest\",\"hoverlabel\":{\"align\":\"left\"},\"paper_bgcolor\":\"white\",\"plot_bgcolor\":\"#E5ECF6\",\"polar\":{\"bgcolor\":\"#E5ECF6\",\"angularaxis\":{\"gridcolor\":\"white\",\"linecolor\":\"white\",\"ticks\":\"\"},\"radialaxis\":{\"gridcolor\":\"white\",\"linecolor\":\"white\",\"ticks\":\"\"}},\"ternary\":{\"bgcolor\":\"#E5ECF6\",\"aaxis\":{\"gridcolor\":\"white\",\"linecolor\":\"white\",\"ticks\":\"\"},\"baxis\":{\"gridcolor\":\"white\",\"linecolor\":\"white\",\"ticks\":\"\"},\"caxis\":{\"gridcolor\":\"white\",\"linecolor\":\"white\",\"ticks\":\"\"}},\"coloraxis\":{\"colorbar\":{\"outlinewidth\":0,\"ticks\":\"\"}},\"colorscale\":{\"sequential\":[[0.0,\"#0d0887\"],[0.1111111111111111,\"#46039f\"],[0.2222222222222222,\"#7201a8\"],[0.3333333333333333,\"#9c179e\"],[0.4444444444444444,\"#bd3786\"],[0.5555555555555556,\"#d8576b\"],[0.6666666666666666,\"#ed7953\"],[0.7777777777777778,\"#fb9f3a\"],[0.8888888888888888,\"#fdca26\"],[1.0,\"#f0f921\"]],\"sequentialminus\":[[0.0,\"#0d0887\"],[0.1111111111111111,\"#46039f\"],[0.2222222222222222,\"#7201a8\"],[0.3333333333333333,\"#9c179e\"],[0.4444444444444444,\"#bd3786\"],[0.5555555555555556,\"#d8576b\"],[0.6666666666666666,\"#ed7953\"],[0.7777777777777778,\"#fb9f3a\"],[0.8888888888888888,\"#fdca26\"],[1.0,\"#f0f921\"]],\"diverging\":[[0,\"#8e0152\"],[0.1,\"#c51b7d\"],[0.2,\"#de77ae\"],[0.3,\"#f1b6da\"],[0.4,\"#fde0ef\"],[0.5,\"#f7f7f7\"],[0.6,\"#e6f5d0\"],[0.7,\"#b8e186\"],[0.8,\"#7fbc41\"],[0.9,\"#4d9221\"],[1,\"#276419\"]]},\"xaxis\":{\"gridcolor\":\"white\",\"linecolor\":\"white\",\"ticks\":\"\",\"title\":{\"standoff\":15},\"zerolinecolor\":\"white\",\"automargin\":true,\"zerolinewidth\":2},\"yaxis\":{\"gridcolor\":\"white\",\"linecolor\":\"white\",\"ticks\":\"\",\"title\":{\"standoff\":15},\"zerolinecolor\":\"white\",\"automargin\":true,\"zerolinewidth\":2},\"scene\":{\"xaxis\":{\"backgroundcolor\":\"#E5ECF6\",\"gridcolor\":\"white\",\"linecolor\":\"white\",\"showbackground\":true,\"ticks\":\"\",\"zerolinecolor\":\"white\",\"gridwidth\":2},\"yaxis\":{\"backgroundcolor\":\"#E5ECF6\",\"gridcolor\":\"white\",\"linecolor\":\"white\",\"showbackground\":true,\"ticks\":\"\",\"zerolinecolor\":\"white\",\"gridwidth\":2},\"zaxis\":{\"backgroundcolor\":\"#E5ECF6\",\"gridcolor\":\"white\",\"linecolor\":\"white\",\"showbackground\":true,\"ticks\":\"\",\"zerolinecolor\":\"white\",\"gridwidth\":2}},\"shapedefaults\":{\"line\":{\"color\":\"#2a3f5f\"}},\"annotationdefaults\":{\"arrowcolor\":\"#2a3f5f\",\"arrowhead\":0,\"arrowwidth\":1},\"geo\":{\"bgcolor\":\"white\",\"landcolor\":\"#E5ECF6\",\"subunitcolor\":\"white\",\"showland\":true,\"showlakes\":true,\"lakecolor\":\"white\"},\"title\":{\"x\":0.05},\"mapbox\":{\"style\":\"light\"}}},\"title\":{\"text\":\"Train and Validation Loss\",\"x\":0.5},\"xaxis\":{\"title\":{\"text\":\"Epochs\"}},\"yaxis\":{\"title\":{\"text\":\"Loss\"}}},                        {\"responsive\": true}                    ).then(function(){\n",
       "                            \n",
       "var gd = document.getElementById('68500c3a-fb84-47cb-b39d-95d6b4f26bd3');\n",
       "var x = new MutationObserver(function (mutations, observer) {{\n",
       "        var display = window.getComputedStyle(gd).display;\n",
       "        if (!display || display === 'none') {{\n",
       "            console.log([gd, 'removed!']);\n",
       "            Plotly.purge(gd);\n",
       "            observer.disconnect();\n",
       "        }}\n",
       "}});\n",
       "\n",
       "// Listen for the removal of the full notebook cells\n",
       "var notebookContainer = gd.closest('#notebook-container');\n",
       "if (notebookContainer) {{\n",
       "    x.observe(notebookContainer, {childList: true});\n",
       "}}\n",
       "\n",
       "// Listen for the clearing of the current output cell\n",
       "var outputEl = gd.closest('.output');\n",
       "if (outputEl) {{\n",
       "    x.observe(outputEl, {childList: true});\n",
       "}}\n",
       "\n",
       "                        })                };                });            </script>        </div>"
      ]
     },
     "metadata": {},
     "output_type": "display_data"
    }
   ],
   "source": [
    "# Plot train and validation losses\n",
    "fig = go.Figure()\n",
    "train_losses = pd.Series(train_losses)\n",
    "val_losses = pd.Series(val_losses)\n",
    "fig.add_trace(go.Scatter(x=train_losses.index, y=train_losses, name=\"Train Loss\"))\n",
    "fig.add_trace(go.Scatter(x=val_losses.index, y=val_losses, name=\"Val Loss\"))\n",
    "fig.update_layout(title=dict(text=\"Train and Validation Loss\", x=0.5), xaxis=dict(title=\"Epochs\"), yaxis=dict(title=\"Loss\"))"
   ]
  },
  {
   "cell_type": "code",
   "execution_count": 14,
   "id": "062e1e37",
   "metadata": {
    "execution": {
     "iopub.execute_input": "2023-05-31T00:35:35.625196Z",
     "iopub.status.busy": "2023-05-31T00:35:35.624154Z",
     "iopub.status.idle": "2023-05-31T00:35:35.647942Z",
     "shell.execute_reply": "2023-05-31T00:35:35.646863Z"
    },
    "papermill": {
     "duration": 0.033728,
     "end_time": "2023-05-31T00:35:35.650118",
     "exception": false,
     "start_time": "2023-05-31T00:35:35.616390",
     "status": "completed"
    },
    "tags": []
   },
   "outputs": [
    {
     "data": {
      "text/html": [
       "<div>                            <div id=\"a983100c-7e59-4454-94be-a57eb1e0714d\" class=\"plotly-graph-div\" style=\"height:525px; width:100%;\"></div>            <script type=\"text/javascript\">                require([\"plotly\"], function(Plotly) {                    window.PLOTLYENV=window.PLOTLYENV || {};                                    if (document.getElementById(\"a983100c-7e59-4454-94be-a57eb1e0714d\")) {                    Plotly.newPlot(                        \"a983100c-7e59-4454-94be-a57eb1e0714d\",                        [{\"name\":\"Train Accuracy\",\"x\":[0,1,2,3,4,5,6,7,8,9,10,11,12,13,14],\"y\":[0.8986607193946838,0.9523809552192688,0.9564880728721619,0.9588987827301025,0.961309552192688,0.9627083539962769,0.9651488065719604,0.964821457862854,0.9647916555404663,0.964821457862854,0.9677678346633911,0.9669345021247864,0.9682142734527588,0.9652678370475769,0.9676785469055176],\"type\":\"scatter\"},{\"name\":\"Val Accuracy\",\"x\":[0,1,2,3,4,5,6,7,8,9,10,11,12,13,14],\"y\":[0.9635416865348816,0.9779829382896423,0.9749053120613098,0.9754971861839294,0.9751420617103577,0.9739583134651184,0.978456437587738,0.9744318127632141,0.974668562412262,0.9777461886405945,0.9762073755264282,0.9830729365348816,0.978456437587738,0.9749053120613098,0.9794034361839294],\"type\":\"scatter\"}],                        {\"template\":{\"data\":{\"histogram2dcontour\":[{\"type\":\"histogram2dcontour\",\"colorbar\":{\"outlinewidth\":0,\"ticks\":\"\"},\"colorscale\":[[0.0,\"#0d0887\"],[0.1111111111111111,\"#46039f\"],[0.2222222222222222,\"#7201a8\"],[0.3333333333333333,\"#9c179e\"],[0.4444444444444444,\"#bd3786\"],[0.5555555555555556,\"#d8576b\"],[0.6666666666666666,\"#ed7953\"],[0.7777777777777778,\"#fb9f3a\"],[0.8888888888888888,\"#fdca26\"],[1.0,\"#f0f921\"]]}],\"choropleth\":[{\"type\":\"choropleth\",\"colorbar\":{\"outlinewidth\":0,\"ticks\":\"\"}}],\"histogram2d\":[{\"type\":\"histogram2d\",\"colorbar\":{\"outlinewidth\":0,\"ticks\":\"\"},\"colorscale\":[[0.0,\"#0d0887\"],[0.1111111111111111,\"#46039f\"],[0.2222222222222222,\"#7201a8\"],[0.3333333333333333,\"#9c179e\"],[0.4444444444444444,\"#bd3786\"],[0.5555555555555556,\"#d8576b\"],[0.6666666666666666,\"#ed7953\"],[0.7777777777777778,\"#fb9f3a\"],[0.8888888888888888,\"#fdca26\"],[1.0,\"#f0f921\"]]}],\"heatmap\":[{\"type\":\"heatmap\",\"colorbar\":{\"outlinewidth\":0,\"ticks\":\"\"},\"colorscale\":[[0.0,\"#0d0887\"],[0.1111111111111111,\"#46039f\"],[0.2222222222222222,\"#7201a8\"],[0.3333333333333333,\"#9c179e\"],[0.4444444444444444,\"#bd3786\"],[0.5555555555555556,\"#d8576b\"],[0.6666666666666666,\"#ed7953\"],[0.7777777777777778,\"#fb9f3a\"],[0.8888888888888888,\"#fdca26\"],[1.0,\"#f0f921\"]]}],\"heatmapgl\":[{\"type\":\"heatmapgl\",\"colorbar\":{\"outlinewidth\":0,\"ticks\":\"\"},\"colorscale\":[[0.0,\"#0d0887\"],[0.1111111111111111,\"#46039f\"],[0.2222222222222222,\"#7201a8\"],[0.3333333333333333,\"#9c179e\"],[0.4444444444444444,\"#bd3786\"],[0.5555555555555556,\"#d8576b\"],[0.6666666666666666,\"#ed7953\"],[0.7777777777777778,\"#fb9f3a\"],[0.8888888888888888,\"#fdca26\"],[1.0,\"#f0f921\"]]}],\"contourcarpet\":[{\"type\":\"contourcarpet\",\"colorbar\":{\"outlinewidth\":0,\"ticks\":\"\"}}],\"contour\":[{\"type\":\"contour\",\"colorbar\":{\"outlinewidth\":0,\"ticks\":\"\"},\"colorscale\":[[0.0,\"#0d0887\"],[0.1111111111111111,\"#46039f\"],[0.2222222222222222,\"#7201a8\"],[0.3333333333333333,\"#9c179e\"],[0.4444444444444444,\"#bd3786\"],[0.5555555555555556,\"#d8576b\"],[0.6666666666666666,\"#ed7953\"],[0.7777777777777778,\"#fb9f3a\"],[0.8888888888888888,\"#fdca26\"],[1.0,\"#f0f921\"]]}],\"surface\":[{\"type\":\"surface\",\"colorbar\":{\"outlinewidth\":0,\"ticks\":\"\"},\"colorscale\":[[0.0,\"#0d0887\"],[0.1111111111111111,\"#46039f\"],[0.2222222222222222,\"#7201a8\"],[0.3333333333333333,\"#9c179e\"],[0.4444444444444444,\"#bd3786\"],[0.5555555555555556,\"#d8576b\"],[0.6666666666666666,\"#ed7953\"],[0.7777777777777778,\"#fb9f3a\"],[0.8888888888888888,\"#fdca26\"],[1.0,\"#f0f921\"]]}],\"mesh3d\":[{\"type\":\"mesh3d\",\"colorbar\":{\"outlinewidth\":0,\"ticks\":\"\"}}],\"scatter\":[{\"fillpattern\":{\"fillmode\":\"overlay\",\"size\":10,\"solidity\":0.2},\"type\":\"scatter\"}],\"parcoords\":[{\"type\":\"parcoords\",\"line\":{\"colorbar\":{\"outlinewidth\":0,\"ticks\":\"\"}}}],\"scatterpolargl\":[{\"type\":\"scatterpolargl\",\"marker\":{\"colorbar\":{\"outlinewidth\":0,\"ticks\":\"\"}}}],\"bar\":[{\"error_x\":{\"color\":\"#2a3f5f\"},\"error_y\":{\"color\":\"#2a3f5f\"},\"marker\":{\"line\":{\"color\":\"#E5ECF6\",\"width\":0.5},\"pattern\":{\"fillmode\":\"overlay\",\"size\":10,\"solidity\":0.2}},\"type\":\"bar\"}],\"scattergeo\":[{\"type\":\"scattergeo\",\"marker\":{\"colorbar\":{\"outlinewidth\":0,\"ticks\":\"\"}}}],\"scatterpolar\":[{\"type\":\"scatterpolar\",\"marker\":{\"colorbar\":{\"outlinewidth\":0,\"ticks\":\"\"}}}],\"histogram\":[{\"marker\":{\"pattern\":{\"fillmode\":\"overlay\",\"size\":10,\"solidity\":0.2}},\"type\":\"histogram\"}],\"scattergl\":[{\"type\":\"scattergl\",\"marker\":{\"colorbar\":{\"outlinewidth\":0,\"ticks\":\"\"}}}],\"scatter3d\":[{\"type\":\"scatter3d\",\"line\":{\"colorbar\":{\"outlinewidth\":0,\"ticks\":\"\"}},\"marker\":{\"colorbar\":{\"outlinewidth\":0,\"ticks\":\"\"}}}],\"scattermapbox\":[{\"type\":\"scattermapbox\",\"marker\":{\"colorbar\":{\"outlinewidth\":0,\"ticks\":\"\"}}}],\"scatterternary\":[{\"type\":\"scatterternary\",\"marker\":{\"colorbar\":{\"outlinewidth\":0,\"ticks\":\"\"}}}],\"scattercarpet\":[{\"type\":\"scattercarpet\",\"marker\":{\"colorbar\":{\"outlinewidth\":0,\"ticks\":\"\"}}}],\"carpet\":[{\"aaxis\":{\"endlinecolor\":\"#2a3f5f\",\"gridcolor\":\"white\",\"linecolor\":\"white\",\"minorgridcolor\":\"white\",\"startlinecolor\":\"#2a3f5f\"},\"baxis\":{\"endlinecolor\":\"#2a3f5f\",\"gridcolor\":\"white\",\"linecolor\":\"white\",\"minorgridcolor\":\"white\",\"startlinecolor\":\"#2a3f5f\"},\"type\":\"carpet\"}],\"table\":[{\"cells\":{\"fill\":{\"color\":\"#EBF0F8\"},\"line\":{\"color\":\"white\"}},\"header\":{\"fill\":{\"color\":\"#C8D4E3\"},\"line\":{\"color\":\"white\"}},\"type\":\"table\"}],\"barpolar\":[{\"marker\":{\"line\":{\"color\":\"#E5ECF6\",\"width\":0.5},\"pattern\":{\"fillmode\":\"overlay\",\"size\":10,\"solidity\":0.2}},\"type\":\"barpolar\"}],\"pie\":[{\"automargin\":true,\"type\":\"pie\"}]},\"layout\":{\"autotypenumbers\":\"strict\",\"colorway\":[\"#636efa\",\"#EF553B\",\"#00cc96\",\"#ab63fa\",\"#FFA15A\",\"#19d3f3\",\"#FF6692\",\"#B6E880\",\"#FF97FF\",\"#FECB52\"],\"font\":{\"color\":\"#2a3f5f\"},\"hovermode\":\"closest\",\"hoverlabel\":{\"align\":\"left\"},\"paper_bgcolor\":\"white\",\"plot_bgcolor\":\"#E5ECF6\",\"polar\":{\"bgcolor\":\"#E5ECF6\",\"angularaxis\":{\"gridcolor\":\"white\",\"linecolor\":\"white\",\"ticks\":\"\"},\"radialaxis\":{\"gridcolor\":\"white\",\"linecolor\":\"white\",\"ticks\":\"\"}},\"ternary\":{\"bgcolor\":\"#E5ECF6\",\"aaxis\":{\"gridcolor\":\"white\",\"linecolor\":\"white\",\"ticks\":\"\"},\"baxis\":{\"gridcolor\":\"white\",\"linecolor\":\"white\",\"ticks\":\"\"},\"caxis\":{\"gridcolor\":\"white\",\"linecolor\":\"white\",\"ticks\":\"\"}},\"coloraxis\":{\"colorbar\":{\"outlinewidth\":0,\"ticks\":\"\"}},\"colorscale\":{\"sequential\":[[0.0,\"#0d0887\"],[0.1111111111111111,\"#46039f\"],[0.2222222222222222,\"#7201a8\"],[0.3333333333333333,\"#9c179e\"],[0.4444444444444444,\"#bd3786\"],[0.5555555555555556,\"#d8576b\"],[0.6666666666666666,\"#ed7953\"],[0.7777777777777778,\"#fb9f3a\"],[0.8888888888888888,\"#fdca26\"],[1.0,\"#f0f921\"]],\"sequentialminus\":[[0.0,\"#0d0887\"],[0.1111111111111111,\"#46039f\"],[0.2222222222222222,\"#7201a8\"],[0.3333333333333333,\"#9c179e\"],[0.4444444444444444,\"#bd3786\"],[0.5555555555555556,\"#d8576b\"],[0.6666666666666666,\"#ed7953\"],[0.7777777777777778,\"#fb9f3a\"],[0.8888888888888888,\"#fdca26\"],[1.0,\"#f0f921\"]],\"diverging\":[[0,\"#8e0152\"],[0.1,\"#c51b7d\"],[0.2,\"#de77ae\"],[0.3,\"#f1b6da\"],[0.4,\"#fde0ef\"],[0.5,\"#f7f7f7\"],[0.6,\"#e6f5d0\"],[0.7,\"#b8e186\"],[0.8,\"#7fbc41\"],[0.9,\"#4d9221\"],[1,\"#276419\"]]},\"xaxis\":{\"gridcolor\":\"white\",\"linecolor\":\"white\",\"ticks\":\"\",\"title\":{\"standoff\":15},\"zerolinecolor\":\"white\",\"automargin\":true,\"zerolinewidth\":2},\"yaxis\":{\"gridcolor\":\"white\",\"linecolor\":\"white\",\"ticks\":\"\",\"title\":{\"standoff\":15},\"zerolinecolor\":\"white\",\"automargin\":true,\"zerolinewidth\":2},\"scene\":{\"xaxis\":{\"backgroundcolor\":\"#E5ECF6\",\"gridcolor\":\"white\",\"linecolor\":\"white\",\"showbackground\":true,\"ticks\":\"\",\"zerolinecolor\":\"white\",\"gridwidth\":2},\"yaxis\":{\"backgroundcolor\":\"#E5ECF6\",\"gridcolor\":\"white\",\"linecolor\":\"white\",\"showbackground\":true,\"ticks\":\"\",\"zerolinecolor\":\"white\",\"gridwidth\":2},\"zaxis\":{\"backgroundcolor\":\"#E5ECF6\",\"gridcolor\":\"white\",\"linecolor\":\"white\",\"showbackground\":true,\"ticks\":\"\",\"zerolinecolor\":\"white\",\"gridwidth\":2}},\"shapedefaults\":{\"line\":{\"color\":\"#2a3f5f\"}},\"annotationdefaults\":{\"arrowcolor\":\"#2a3f5f\",\"arrowhead\":0,\"arrowwidth\":1},\"geo\":{\"bgcolor\":\"white\",\"landcolor\":\"#E5ECF6\",\"subunitcolor\":\"white\",\"showland\":true,\"showlakes\":true,\"lakecolor\":\"white\"},\"title\":{\"x\":0.05},\"mapbox\":{\"style\":\"light\"}}},\"title\":{\"text\":\"Train and Validation Accuracy\",\"x\":0.5},\"xaxis\":{\"title\":{\"text\":\"Epochs\"}},\"yaxis\":{\"title\":{\"text\":\"Accuracy (%)\"}}},                        {\"responsive\": true}                    ).then(function(){\n",
       "                            \n",
       "var gd = document.getElementById('a983100c-7e59-4454-94be-a57eb1e0714d');\n",
       "var x = new MutationObserver(function (mutations, observer) {{\n",
       "        var display = window.getComputedStyle(gd).display;\n",
       "        if (!display || display === 'none') {{\n",
       "            console.log([gd, 'removed!']);\n",
       "            Plotly.purge(gd);\n",
       "            observer.disconnect();\n",
       "        }}\n",
       "}});\n",
       "\n",
       "// Listen for the removal of the full notebook cells\n",
       "var notebookContainer = gd.closest('#notebook-container');\n",
       "if (notebookContainer) {{\n",
       "    x.observe(notebookContainer, {childList: true});\n",
       "}}\n",
       "\n",
       "// Listen for the clearing of the current output cell\n",
       "var outputEl = gd.closest('.output');\n",
       "if (outputEl) {{\n",
       "    x.observe(outputEl, {childList: true});\n",
       "}}\n",
       "\n",
       "                        })                };                });            </script>        </div>"
      ]
     },
     "metadata": {},
     "output_type": "display_data"
    }
   ],
   "source": [
    "# Plot train and validation accuracy\n",
    "fig = go.Figure()\n",
    "train_accs = pd.Series(train_accs)\n",
    "val_accs = pd.Series(val_accs)\n",
    "fig.add_trace(go.Scatter(x=train_accs.index, y=train_accs, name=\"Train Accuracy\"))\n",
    "fig.add_trace(go.Scatter(x=val_accs.index, y=val_accs, name=\"Val Accuracy\"))\n",
    "fig.update_layout(title=dict(text=\"Train and Validation Accuracy\", x=0.5), xaxis=dict(title=\"Epochs\"), yaxis=dict(title=\"Accuracy (%)\"))"
   ]
  },
  {
   "cell_type": "markdown",
   "id": "b285870a",
   "metadata": {
    "papermill": {
     "duration": 0.006498,
     "end_time": "2023-05-31T00:35:35.663414",
     "exception": false,
     "start_time": "2023-05-31T00:35:35.656916",
     "status": "completed"
    },
    "tags": []
   },
   "source": [
    "## Test set predictions"
   ]
  },
  {
   "cell_type": "code",
   "execution_count": 15,
   "id": "c89e2391",
   "metadata": {
    "execution": {
     "iopub.execute_input": "2023-05-31T00:35:35.679005Z",
     "iopub.status.busy": "2023-05-31T00:35:35.678586Z",
     "iopub.status.idle": "2023-05-31T00:35:40.538350Z",
     "shell.execute_reply": "2023-05-31T00:35:40.537526Z"
    },
    "papermill": {
     "duration": 4.870577,
     "end_time": "2023-05-31T00:35:40.540743",
     "exception": false,
     "start_time": "2023-05-31T00:35:35.670166",
     "status": "completed"
    },
    "tags": []
   },
   "outputs": [],
   "source": [
    "# Test set predictions\n",
    "cnn.eval() # Dropout, Batch Norm\n",
    "test = next(iter(DataLoader(test_dataset, batch_size=len(test_dataset), shuffle=False))).to(device).detach()\n",
    "logpreds = cnn(test)\n",
    "preds = torch.exp(logpreds) # Probabilities \n",
    "_, y_pred = preds.topk(1, dim = 1)\n",
    "y_pred = pd.DataFrame({'ImageId': np.arange(1, len(test_dataset)+1), 'Label': y_pred.cpu().numpy().squeeze()})\n",
    "y_pred.to_csv('submission.csv', index=False)"
   ]
  },
  {
   "cell_type": "code",
   "execution_count": null,
   "id": "45e8ed02",
   "metadata": {
    "papermill": {
     "duration": 0.006368,
     "end_time": "2023-05-31T00:35:40.553897",
     "exception": false,
     "start_time": "2023-05-31T00:35:40.547529",
     "status": "completed"
    },
    "tags": []
   },
   "outputs": [],
   "source": []
  }
 ],
 "metadata": {
  "kernelspec": {
   "display_name": "Python 3",
   "language": "python",
   "name": "python3"
  },
  "language_info": {
   "codemirror_mode": {
    "name": "ipython",
    "version": 3
   },
   "file_extension": ".py",
   "mimetype": "text/x-python",
   "name": "python",
   "nbconvert_exporter": "python",
   "pygments_lexer": "ipython3",
   "version": "3.10.10"
  },
  "papermill": {
   "default_parameters": {},
   "duration": 198.319964,
   "end_time": "2023-05-31T00:35:42.185147",
   "environment_variables": {},
   "exception": null,
   "input_path": "__notebook__.ipynb",
   "output_path": "__notebook__.ipynb",
   "parameters": {},
   "start_time": "2023-05-31T00:32:23.865183",
   "version": "2.4.0"
  },
  "widgets": {
   "application/vnd.jupyter.widget-state+json": {
    "state": {
     "0fbb0ae57e9a49ec9ad69acfed850dfc": {
      "model_module": "@jupyter-widgets/controls",
      "model_module_version": "1.5.0",
      "model_name": "HTMLModel",
      "state": {
       "_dom_classes": [],
       "_model_module": "@jupyter-widgets/controls",
       "_model_module_version": "1.5.0",
       "_model_name": "HTMLModel",
       "_view_count": null,
       "_view_module": "@jupyter-widgets/controls",
       "_view_module_version": "1.5.0",
       "_view_name": "HTMLView",
       "description": "",
       "description_tooltip": null,
       "layout": "IPY_MODEL_ed22834314dd41b5abe8a4cb8aefce45",
       "placeholder": "​",
       "style": "IPY_MODEL_8342e578c8c74d048514119440581beb",
       "value": " 15/15 [02:37&lt;00:00, 10.50s/it]"
      }
     },
     "2d6a841475744b32985b664548fe8463": {
      "model_module": "@jupyter-widgets/base",
      "model_module_version": "1.2.0",
      "model_name": "LayoutModel",
      "state": {
       "_model_module": "@jupyter-widgets/base",
       "_model_module_version": "1.2.0",
       "_model_name": "LayoutModel",
       "_view_count": null,
       "_view_module": "@jupyter-widgets/base",
       "_view_module_version": "1.2.0",
       "_view_name": "LayoutView",
       "align_content": null,
       "align_items": null,
       "align_self": null,
       "border": null,
       "bottom": null,
       "display": null,
       "flex": null,
       "flex_flow": null,
       "grid_area": null,
       "grid_auto_columns": null,
       "grid_auto_flow": null,
       "grid_auto_rows": null,
       "grid_column": null,
       "grid_gap": null,
       "grid_row": null,
       "grid_template_areas": null,
       "grid_template_columns": null,
       "grid_template_rows": null,
       "height": null,
       "justify_content": null,
       "justify_items": null,
       "left": null,
       "margin": null,
       "max_height": null,
       "max_width": null,
       "min_height": null,
       "min_width": null,
       "object_fit": null,
       "object_position": null,
       "order": null,
       "overflow": null,
       "overflow_x": null,
       "overflow_y": null,
       "padding": null,
       "right": null,
       "top": null,
       "visibility": null,
       "width": null
      }
     },
     "42f1944018314e5aacb9ad6abc1c7a78": {
      "model_module": "@jupyter-widgets/base",
      "model_module_version": "1.2.0",
      "model_name": "LayoutModel",
      "state": {
       "_model_module": "@jupyter-widgets/base",
       "_model_module_version": "1.2.0",
       "_model_name": "LayoutModel",
       "_view_count": null,
       "_view_module": "@jupyter-widgets/base",
       "_view_module_version": "1.2.0",
       "_view_name": "LayoutView",
       "align_content": null,
       "align_items": null,
       "align_self": null,
       "border": null,
       "bottom": null,
       "display": null,
       "flex": null,
       "flex_flow": null,
       "grid_area": null,
       "grid_auto_columns": null,
       "grid_auto_flow": null,
       "grid_auto_rows": null,
       "grid_column": null,
       "grid_gap": null,
       "grid_row": null,
       "grid_template_areas": null,
       "grid_template_columns": null,
       "grid_template_rows": null,
       "height": null,
       "justify_content": null,
       "justify_items": null,
       "left": null,
       "margin": null,
       "max_height": null,
       "max_width": null,
       "min_height": null,
       "min_width": null,
       "object_fit": null,
       "object_position": null,
       "order": null,
       "overflow": null,
       "overflow_x": null,
       "overflow_y": null,
       "padding": null,
       "right": null,
       "top": null,
       "visibility": null,
       "width": null
      }
     },
     "4a5ed54d48b545918cadd01a30cd9730": {
      "model_module": "@jupyter-widgets/base",
      "model_module_version": "1.2.0",
      "model_name": "LayoutModel",
      "state": {
       "_model_module": "@jupyter-widgets/base",
       "_model_module_version": "1.2.0",
       "_model_name": "LayoutModel",
       "_view_count": null,
       "_view_module": "@jupyter-widgets/base",
       "_view_module_version": "1.2.0",
       "_view_name": "LayoutView",
       "align_content": null,
       "align_items": null,
       "align_self": null,
       "border": null,
       "bottom": null,
       "display": null,
       "flex": null,
       "flex_flow": null,
       "grid_area": null,
       "grid_auto_columns": null,
       "grid_auto_flow": null,
       "grid_auto_rows": null,
       "grid_column": null,
       "grid_gap": null,
       "grid_row": null,
       "grid_template_areas": null,
       "grid_template_columns": null,
       "grid_template_rows": null,
       "height": null,
       "justify_content": null,
       "justify_items": null,
       "left": null,
       "margin": null,
       "max_height": null,
       "max_width": null,
       "min_height": null,
       "min_width": null,
       "object_fit": null,
       "object_position": null,
       "order": null,
       "overflow": null,
       "overflow_x": null,
       "overflow_y": null,
       "padding": null,
       "right": null,
       "top": null,
       "visibility": null,
       "width": null
      }
     },
     "4e97df2807494365b9a22a0116c57bb6": {
      "model_module": "@jupyter-widgets/controls",
      "model_module_version": "1.5.0",
      "model_name": "DescriptionStyleModel",
      "state": {
       "_model_module": "@jupyter-widgets/controls",
       "_model_module_version": "1.5.0",
       "_model_name": "DescriptionStyleModel",
       "_view_count": null,
       "_view_module": "@jupyter-widgets/base",
       "_view_module_version": "1.2.0",
       "_view_name": "StyleView",
       "description_width": ""
      }
     },
     "60cc0bfafc334f29beb3c5ee3152acb1": {
      "model_module": "@jupyter-widgets/controls",
      "model_module_version": "1.5.0",
      "model_name": "HTMLModel",
      "state": {
       "_dom_classes": [],
       "_model_module": "@jupyter-widgets/controls",
       "_model_module_version": "1.5.0",
       "_model_name": "HTMLModel",
       "_view_count": null,
       "_view_module": "@jupyter-widgets/controls",
       "_view_module_version": "1.5.0",
       "_view_name": "HTMLView",
       "description": "",
       "description_tooltip": null,
       "layout": "IPY_MODEL_2d6a841475744b32985b664548fe8463",
       "placeholder": "​",
       "style": "IPY_MODEL_4e97df2807494365b9a22a0116c57bb6",
       "value": "Epochs: 100%"
      }
     },
     "8342e578c8c74d048514119440581beb": {
      "model_module": "@jupyter-widgets/controls",
      "model_module_version": "1.5.0",
      "model_name": "DescriptionStyleModel",
      "state": {
       "_model_module": "@jupyter-widgets/controls",
       "_model_module_version": "1.5.0",
       "_model_name": "DescriptionStyleModel",
       "_view_count": null,
       "_view_module": "@jupyter-widgets/base",
       "_view_module_version": "1.2.0",
       "_view_name": "StyleView",
       "description_width": ""
      }
     },
     "9135c20cbc4a402a90ad68595527ced8": {
      "model_module": "@jupyter-widgets/controls",
      "model_module_version": "1.5.0",
      "model_name": "FloatProgressModel",
      "state": {
       "_dom_classes": [],
       "_model_module": "@jupyter-widgets/controls",
       "_model_module_version": "1.5.0",
       "_model_name": "FloatProgressModel",
       "_view_count": null,
       "_view_module": "@jupyter-widgets/controls",
       "_view_module_version": "1.5.0",
       "_view_name": "ProgressView",
       "bar_style": "success",
       "description": "",
       "description_tooltip": null,
       "layout": "IPY_MODEL_42f1944018314e5aacb9ad6abc1c7a78",
       "max": 15.0,
       "min": 0.0,
       "orientation": "horizontal",
       "style": "IPY_MODEL_c6768b4bc0c04146a04a4c681c9d968c",
       "value": 15.0
      }
     },
     "c6768b4bc0c04146a04a4c681c9d968c": {
      "model_module": "@jupyter-widgets/controls",
      "model_module_version": "1.5.0",
      "model_name": "ProgressStyleModel",
      "state": {
       "_model_module": "@jupyter-widgets/controls",
       "_model_module_version": "1.5.0",
       "_model_name": "ProgressStyleModel",
       "_view_count": null,
       "_view_module": "@jupyter-widgets/base",
       "_view_module_version": "1.2.0",
       "_view_name": "StyleView",
       "bar_color": null,
       "description_width": ""
      }
     },
     "d0c8bd5ffea54ca8b1f21c8e94c9fa9e": {
      "model_module": "@jupyter-widgets/controls",
      "model_module_version": "1.5.0",
      "model_name": "HBoxModel",
      "state": {
       "_dom_classes": [],
       "_model_module": "@jupyter-widgets/controls",
       "_model_module_version": "1.5.0",
       "_model_name": "HBoxModel",
       "_view_count": null,
       "_view_module": "@jupyter-widgets/controls",
       "_view_module_version": "1.5.0",
       "_view_name": "HBoxView",
       "box_style": "",
       "children": [
        "IPY_MODEL_60cc0bfafc334f29beb3c5ee3152acb1",
        "IPY_MODEL_9135c20cbc4a402a90ad68595527ced8",
        "IPY_MODEL_0fbb0ae57e9a49ec9ad69acfed850dfc"
       ],
       "layout": "IPY_MODEL_4a5ed54d48b545918cadd01a30cd9730"
      }
     },
     "ed22834314dd41b5abe8a4cb8aefce45": {
      "model_module": "@jupyter-widgets/base",
      "model_module_version": "1.2.0",
      "model_name": "LayoutModel",
      "state": {
       "_model_module": "@jupyter-widgets/base",
       "_model_module_version": "1.2.0",
       "_model_name": "LayoutModel",
       "_view_count": null,
       "_view_module": "@jupyter-widgets/base",
       "_view_module_version": "1.2.0",
       "_view_name": "LayoutView",
       "align_content": null,
       "align_items": null,
       "align_self": null,
       "border": null,
       "bottom": null,
       "display": null,
       "flex": null,
       "flex_flow": null,
       "grid_area": null,
       "grid_auto_columns": null,
       "grid_auto_flow": null,
       "grid_auto_rows": null,
       "grid_column": null,
       "grid_gap": null,
       "grid_row": null,
       "grid_template_areas": null,
       "grid_template_columns": null,
       "grid_template_rows": null,
       "height": null,
       "justify_content": null,
       "justify_items": null,
       "left": null,
       "margin": null,
       "max_height": null,
       "max_width": null,
       "min_height": null,
       "min_width": null,
       "object_fit": null,
       "object_position": null,
       "order": null,
       "overflow": null,
       "overflow_x": null,
       "overflow_y": null,
       "padding": null,
       "right": null,
       "top": null,
       "visibility": null,
       "width": null
      }
     }
    },
    "version_major": 2,
    "version_minor": 0
   }
  }
 },
 "nbformat": 4,
 "nbformat_minor": 5
}
